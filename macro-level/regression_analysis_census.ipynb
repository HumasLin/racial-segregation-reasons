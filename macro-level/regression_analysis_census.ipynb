{
 "cells": [
  {
   "cell_type": "code",
   "execution_count": 1,
   "metadata": {},
   "outputs": [],
   "source": [
    "import pandas as pd\n",
    "import numpy as np\n",
    "\n",
    "from sklearn.linear_model import LinearRegression\n",
    "from sklearn import preprocessing\n",
    "from scipy import stats\n",
    "import statsmodels.api as sm\n",
    "from matplotlib import pyplot as plt"
   ]
  },
  {
   "cell_type": "code",
   "execution_count": 2,
   "metadata": {},
   "outputs": [],
   "source": [
    "data=pd.read_csv(\"data/census_cities.csv\")"
   ]
  },
  {
   "cell_type": "code",
   "execution_count": 3,
   "metadata": {},
   "outputs": [],
   "source": [
    "seg_score = data.iloc[:,19:22]\n",
    "race_ratio = data.iloc[:,16:19]"
   ]
  },
  {
   "cell_type": "code",
   "execution_count": 4,
   "metadata": {},
   "outputs": [],
   "source": [
    "np_seg = np.array(seg_score)\n",
    "np_rac = np.array(race_ratio)"
   ]
  },
  {
   "cell_type": "code",
   "execution_count": 5,
   "metadata": {},
   "outputs": [],
   "source": [
    "#Avg Seg score\n",
    "dep_var = np.mean(np_seg, axis = 1)"
   ]
  },
  {
   "cell_type": "code",
   "execution_count": 6,
   "metadata": {},
   "outputs": [],
   "source": [
    "#Dependent variable Normalization\n",
    "scaler = preprocessing.StandardScaler().fit(dep_var.reshape(len(dep_var),1))\n",
    "dep_var = scaler.transform(dep_var.reshape(len(dep_var),1))"
   ]
  },
  {
   "cell_type": "code",
   "execution_count": 7,
   "metadata": {},
   "outputs": [],
   "source": [
    "#Drop the X variables: Race ratio, Dissimilarity index, Income inequality\n",
    "mul_var = data.drop(columns = [' %Non Hispanic White','%Non Hispanic Black','%Hispanic','%Asian','White-Black dissimilarity index','White-Hispanic dissimilarity index', 'White-Asian dissimilarity index',\n",
    "                   'Black_White income inequality','Hispanic_White income inequality'])\n",
    "mul_var = mul_var.iloc[:,2:]"
   ]
  },
  {
   "cell_type": "code",
   "execution_count": 8,
   "metadata": {},
   "outputs": [
    {
     "name": "stdout",
     "output_type": "stream",
     "text": [
      "                            OLS Regression Results                            \n",
      "==============================================================================\n",
      "Dep. Variable:                      y   R-squared:                       0.848\n",
      "Model:                            OLS   Adj. R-squared:                  0.772\n",
      "Method:                 Least Squares   F-statistic:                     11.18\n",
      "Date:                Sun, 25 Apr 2021   Prob (F-statistic):           6.58e-09\n",
      "Time:                        10:24:23   Log-Likelihood:                -23.325\n",
      "No. Observations:                  49   AIC:                             80.65\n",
      "Df Residuals:                      32   BIC:                             112.8\n",
      "Df Model:                          16                                         \n",
      "Covariance Type:            nonrobust                                         \n",
      "===========================================================================================\n",
      "                              coef    std err          t      P>|t|      [0.025      0.975]\n",
      "-------------------------------------------------------------------------------------------\n",
      "const                     -21.3621      5.478     -3.900      0.000     -32.520     -10.204\n",
      " pop_2010               -1.308e-07   3.01e-07     -0.434      0.667   -7.45e-07    4.83e-07\n",
      "pop_urban area_2010      2.588e-07   3.26e-07      0.794      0.433   -4.05e-07    9.22e-07\n",
      "urban land area_sq mi       0.0004      0.000      1.140      0.263      -0.000       0.001\n",
      "urban_pop_den_sq mi        -0.0002      0.000     -1.218      0.232      -0.001       0.000\n",
      "GDP 2010                 2.995e-10   3.63e-09      0.083      0.935   -7.09e-09    7.69e-09\n",
      "total emplpyment         1.042e-07   1.56e-07      0.666      0.510   -2.15e-07    4.23e-07\n",
      "poverty rate                0.3231      0.084      3.859      0.001       0.153       0.494\n",
      "median household income  4.912e-05   2.44e-05      2.017      0.052   -4.87e-07    9.87e-05\n",
      "commute_%public transit     0.0044      0.084      0.053      0.958      -0.166       0.175\n",
      "commute_%carpool           -0.2603      0.109     -2.399      0.022      -0.481      -0.039\n",
      "commute_%drive              0.1772      0.058      3.078      0.004       0.060       0.294\n",
      "median property value     9.88e-07   1.64e-06      0.601      0.552   -2.36e-06    4.33e-06\n",
      "%home ownership             0.0242      0.029      0.825      0.416      -0.036       0.084\n",
      "Transit Score               1.4653      0.410      3.572      0.001       0.630       2.301\n",
      "Driving Score              -0.0159      0.007     -2.374      0.024      -0.030      -0.002\n",
      "Walking Score              -0.4790      0.851     -0.563      0.577      -2.212       1.254\n",
      "==============================================================================\n",
      "Omnibus:                        0.300   Durbin-Watson:                   2.266\n",
      "Prob(Omnibus):                  0.861   Jarque-Bera (JB):                0.396\n",
      "Skew:                          -0.170   Prob(JB):                        0.820\n",
      "Kurtosis:                       2.721   Cond. No.                     2.32e+10\n",
      "==============================================================================\n",
      "\n",
      "Notes:\n",
      "[1] Standard Errors assume that the covariance matrix of the errors is correctly specified.\n",
      "[2] The condition number is large, 2.32e+10. This might indicate that there are\n",
      "strong multicollinearity or other numerical problems.\n"
     ]
    }
   ],
   "source": [
    "#Run OLS regression with Constant term\n",
    "mul_var_con = sm.add_constant(mul_var)\n",
    "ols_reg = sm.OLS(dep_var, mul_var_con).fit()\n",
    "print(ols_reg.summary())"
   ]
  }
 ],
 "metadata": {
  "kernelspec": {
   "display_name": "Python 3",
   "language": "python",
   "name": "python3"
  },
  "language_info": {
   "codemirror_mode": {
    "name": "ipython",
    "version": 3
   },
   "file_extension": ".py",
   "mimetype": "text/x-python",
   "name": "python",
   "nbconvert_exporter": "python",
   "pygments_lexer": "ipython3",
   "version": "3.8.5"
  }
 },
 "nbformat": 4,
 "nbformat_minor": 4
}
