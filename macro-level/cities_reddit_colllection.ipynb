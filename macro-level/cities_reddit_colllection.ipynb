{
  "nbformat": 4,
  "nbformat_minor": 0,
  "metadata": {
    "kernelspec": {
      "display_name": "Python 3",
      "language": "python",
      "name": "python3"
    },
    "language_info": {
      "codemirror_mode": {
        "name": "ipython",
        "version": 3
      },
      "file_extension": ".py",
      "mimetype": "text/x-python",
      "name": "python",
      "nbconvert_exporter": "python",
      "pygments_lexer": "ipython3",
      "version": "3.8.5"
    },
    "colab": {
      "name": "cities_reddit_colllection.ipynb",
      "provenance": []
    },
    "widgets": {
      "application/vnd.jupyter.widget-state+json": {
        "0118a1564c4e48eea09e39538312deb5": {
          "model_module": "@jupyter-widgets/controls",
          "model_name": "HBoxModel",
          "state": {
            "_view_name": "HBoxView",
            "_dom_classes": [],
            "_model_name": "HBoxModel",
            "_view_module": "@jupyter-widgets/controls",
            "_model_module_version": "1.5.0",
            "_view_count": null,
            "_view_module_version": "1.5.0",
            "box_style": "",
            "layout": "IPY_MODEL_beaf56190ea04d4cb31c7bf1ab0cfa66",
            "_model_module": "@jupyter-widgets/controls",
            "children": [
              "IPY_MODEL_87438053020c4a58a3a9150f6ac79334",
              "IPY_MODEL_82386fa8e1ea4c7882c0edd6c7d36117"
            ]
          }
        },
        "beaf56190ea04d4cb31c7bf1ab0cfa66": {
          "model_module": "@jupyter-widgets/base",
          "model_name": "LayoutModel",
          "state": {
            "_view_name": "LayoutView",
            "grid_template_rows": null,
            "right": null,
            "justify_content": null,
            "_view_module": "@jupyter-widgets/base",
            "overflow": null,
            "_model_module_version": "1.2.0",
            "_view_count": null,
            "flex_flow": null,
            "width": null,
            "min_width": null,
            "border": null,
            "align_items": null,
            "bottom": null,
            "_model_module": "@jupyter-widgets/base",
            "top": null,
            "grid_column": null,
            "overflow_y": null,
            "overflow_x": null,
            "grid_auto_flow": null,
            "grid_area": null,
            "grid_template_columns": null,
            "flex": null,
            "_model_name": "LayoutModel",
            "justify_items": null,
            "grid_row": null,
            "max_height": null,
            "align_content": null,
            "visibility": null,
            "align_self": null,
            "height": null,
            "min_height": null,
            "padding": null,
            "grid_auto_rows": null,
            "grid_gap": null,
            "max_width": null,
            "order": null,
            "_view_module_version": "1.2.0",
            "grid_template_areas": null,
            "object_position": null,
            "object_fit": null,
            "grid_auto_columns": null,
            "margin": null,
            "display": null,
            "left": null
          }
        },
        "87438053020c4a58a3a9150f6ac79334": {
          "model_module": "@jupyter-widgets/controls",
          "model_name": "FloatProgressModel",
          "state": {
            "_view_name": "ProgressView",
            "style": "IPY_MODEL_88e51b10fc8e4bba99ff95b75c2bd560",
            "_dom_classes": [],
            "description": "100%",
            "_model_name": "FloatProgressModel",
            "bar_style": "success",
            "max": 49,
            "_view_module": "@jupyter-widgets/controls",
            "_model_module_version": "1.5.0",
            "value": 49,
            "_view_count": null,
            "_view_module_version": "1.5.0",
            "orientation": "horizontal",
            "min": 0,
            "description_tooltip": null,
            "_model_module": "@jupyter-widgets/controls",
            "layout": "IPY_MODEL_e7128dd97a2b465894a8a86fbeda15f4"
          }
        },
        "82386fa8e1ea4c7882c0edd6c7d36117": {
          "model_module": "@jupyter-widgets/controls",
          "model_name": "HTMLModel",
          "state": {
            "_view_name": "HTMLView",
            "style": "IPY_MODEL_17c14686865549879e1ccb0e2e140b17",
            "_dom_classes": [],
            "description": "",
            "_model_name": "HTMLModel",
            "placeholder": "​",
            "_view_module": "@jupyter-widgets/controls",
            "_model_module_version": "1.5.0",
            "value": " 49/49 [59:56&lt;00:00, 73.40s/it]",
            "_view_count": null,
            "_view_module_version": "1.5.0",
            "description_tooltip": null,
            "_model_module": "@jupyter-widgets/controls",
            "layout": "IPY_MODEL_e29ed4f6299f4d8091dcc2dc5fb6f559"
          }
        },
        "88e51b10fc8e4bba99ff95b75c2bd560": {
          "model_module": "@jupyter-widgets/controls",
          "model_name": "ProgressStyleModel",
          "state": {
            "_view_name": "StyleView",
            "_model_name": "ProgressStyleModel",
            "description_width": "initial",
            "_view_module": "@jupyter-widgets/base",
            "_model_module_version": "1.5.0",
            "_view_count": null,
            "_view_module_version": "1.2.0",
            "bar_color": null,
            "_model_module": "@jupyter-widgets/controls"
          }
        },
        "e7128dd97a2b465894a8a86fbeda15f4": {
          "model_module": "@jupyter-widgets/base",
          "model_name": "LayoutModel",
          "state": {
            "_view_name": "LayoutView",
            "grid_template_rows": null,
            "right": null,
            "justify_content": null,
            "_view_module": "@jupyter-widgets/base",
            "overflow": null,
            "_model_module_version": "1.2.0",
            "_view_count": null,
            "flex_flow": null,
            "width": null,
            "min_width": null,
            "border": null,
            "align_items": null,
            "bottom": null,
            "_model_module": "@jupyter-widgets/base",
            "top": null,
            "grid_column": null,
            "overflow_y": null,
            "overflow_x": null,
            "grid_auto_flow": null,
            "grid_area": null,
            "grid_template_columns": null,
            "flex": null,
            "_model_name": "LayoutModel",
            "justify_items": null,
            "grid_row": null,
            "max_height": null,
            "align_content": null,
            "visibility": null,
            "align_self": null,
            "height": null,
            "min_height": null,
            "padding": null,
            "grid_auto_rows": null,
            "grid_gap": null,
            "max_width": null,
            "order": null,
            "_view_module_version": "1.2.0",
            "grid_template_areas": null,
            "object_position": null,
            "object_fit": null,
            "grid_auto_columns": null,
            "margin": null,
            "display": null,
            "left": null
          }
        },
        "17c14686865549879e1ccb0e2e140b17": {
          "model_module": "@jupyter-widgets/controls",
          "model_name": "DescriptionStyleModel",
          "state": {
            "_view_name": "StyleView",
            "_model_name": "DescriptionStyleModel",
            "description_width": "",
            "_view_module": "@jupyter-widgets/base",
            "_model_module_version": "1.5.0",
            "_view_count": null,
            "_view_module_version": "1.2.0",
            "_model_module": "@jupyter-widgets/controls"
          }
        },
        "e29ed4f6299f4d8091dcc2dc5fb6f559": {
          "model_module": "@jupyter-widgets/base",
          "model_name": "LayoutModel",
          "state": {
            "_view_name": "LayoutView",
            "grid_template_rows": null,
            "right": null,
            "justify_content": null,
            "_view_module": "@jupyter-widgets/base",
            "overflow": null,
            "_model_module_version": "1.2.0",
            "_view_count": null,
            "flex_flow": null,
            "width": null,
            "min_width": null,
            "border": null,
            "align_items": null,
            "bottom": null,
            "_model_module": "@jupyter-widgets/base",
            "top": null,
            "grid_column": null,
            "overflow_y": null,
            "overflow_x": null,
            "grid_auto_flow": null,
            "grid_area": null,
            "grid_template_columns": null,
            "flex": null,
            "_model_name": "LayoutModel",
            "justify_items": null,
            "grid_row": null,
            "max_height": null,
            "align_content": null,
            "visibility": null,
            "align_self": null,
            "height": null,
            "min_height": null,
            "padding": null,
            "grid_auto_rows": null,
            "grid_gap": null,
            "max_width": null,
            "order": null,
            "_view_module_version": "1.2.0",
            "grid_template_areas": null,
            "object_position": null,
            "object_fit": null,
            "grid_auto_columns": null,
            "margin": null,
            "display": null,
            "left": null
          }
        }
      }
    }
  },
  "cells": [
    {
      "cell_type": "code",
      "metadata": {
        "colab": {
          "base_uri": "https://localhost:8080/"
        },
        "id": "CY4cOdTo4tMo",
        "outputId": "75781e10-d3ef-4098-d713-43580cbe3604"
      },
      "source": [
        "import pandas as pd\n",
        "from google.colab import auth\n",
        "from google.colab import files\n",
        "from tqdm import tqdm_notebook\n",
        "auth.authenticate_user()\n",
        "print('Authenticated')"
      ],
      "execution_count": 1,
      "outputs": [
        {
          "output_type": "stream",
          "text": [
            "Authenticated\n"
          ],
          "name": "stdout"
        }
      ]
    },
    {
      "cell_type": "code",
      "metadata": {
        "id": "_GYNB1i94tMr"
      },
      "source": [
        "with open(\"/content/cities.txt\",\"r\") as f:\n",
        "    lines = f.readlines()\n",
        "\n",
        "cities = [line.strip() for line in lines]\n",
        "subreddits = ['nyc', 'LosAngeles', 'chicago', 'Dallas', 'houston', 'washingtondc', 'Miami', 'philadelphia', 'Atlanta', 'phoenix', 'boston', 'sanfrancisco', 'Riverside', 'Detroit', 'Seattle', 'Minneapolis', 'sandiego', 'tampa', 'Denver', 'StLouis', 'baltimore', 'Charlotte', 'orlando', 'sanantonio', 'Portland', 'Sacramento', 'pittsburgh', 'LasVegas', 'Austin', 'cincinnati', 'kansascity', 'Columbus', 'indianapolis', 'Cleveland', 'SanJose', 'nashville', 'VirginiaBeach', 'providence', 'milwaukee', 'jacksonville', 'oklahomacity', 'raleigh', 'richmond', 'NewOrleans', 'Louisville', 'SaltLakeCity', 'Hartford', 'Buffalo', 'Birmingham']\n",
        "\n",
        "dates=[]\n",
        "for i in range(1,13):\n",
        "    for year in range(5,9):\n",
        "        month = '0{}'.format(i)[-2:]\n",
        "        dates.append('201{}_{}'.format(year, month))"
      ],
      "execution_count": 2,
      "outputs": []
    },
    {
      "cell_type": "code",
      "metadata": {
        "colab": {
          "base_uri": "https://localhost:8080/",
          "height": 970,
          "referenced_widgets": [
            "0118a1564c4e48eea09e39538312deb5",
            "beaf56190ea04d4cb31c7bf1ab0cfa66",
            "87438053020c4a58a3a9150f6ac79334",
            "82386fa8e1ea4c7882c0edd6c7d36117",
            "88e51b10fc8e4bba99ff95b75c2bd560",
            "e7128dd97a2b465894a8a86fbeda15f4",
            "17c14686865549879e1ccb0e2e140b17",
            "e29ed4f6299f4d8091dcc2dc5fb6f559"
          ]
        },
        "id": "F7ScMkxc4tMs",
        "outputId": "e761acb1-2aed-4d8d-f82a-08c8fc187288"
      },
      "source": [
        "from google.cloud import bigquery\n",
        "\n",
        "# Construct a BigQuery client object.\n",
        "client = bigquery.Client(project='socialseg')\n",
        "\n",
        "for city_idx in tqdm_notebook(range(len(cities))):\n",
        "    bodies = []\n",
        "    subrs = []\n",
        "    authors = []\n",
        "\n",
        "    for date in dates:\n",
        "        query = \"\"\"\n",
        "                SELECT body,subreddit,author \n",
        "                FROM `fh-bigquery.reddit_comments.{}` \n",
        "                WHERE (body LIKE @string OR body LIKE @string2) AND (subreddit = @subreddit)\n",
        "                \"\"\".format(date)\n",
        "\n",
        "        job_config = bigquery.QueryJobConfig(\n",
        "            query_parameters=[bigquery.ScalarQueryParameter(\"string\", \"STRING\", '%{}%'.format(cities[city_idx])),\n",
        "                              bigquery.ScalarQueryParameter(\"string2\", \"STRING\", '%{}%'.format(cities[city_idx].lower())),\n",
        "                              bigquery.ScalarQueryParameter(\"subreddit\", \"STRING\", subreddits[city_idx]),])\n",
        "        query_job = client.query(query, job_config=job_config)  # Make an API request.\n",
        "\n",
        "        for row in query_job:\n",
        "            bodies.append(row.body)\n",
        "            subrs.append(row.subreddit)\n",
        "            authors.append(row.author)\n",
        "    \n",
        "    print(\"Collect {} comments from r/{}\".format(len(bodies),subreddits[city_idx]))\n",
        "    df = pd.DataFrame({'body':bodies,'subreddit':subrs,'author':authors})\n",
        "    df.to_csv('{}.csv'.format(cities[city_idx]),header=1)"
      ],
      "execution_count": 3,
      "outputs": [
        {
          "output_type": "stream",
          "text": [
            "/usr/local/lib/python3.7/dist-packages/ipykernel_launcher.py:6: TqdmDeprecationWarning: This function will be removed in tqdm==5.0.0\n",
            "Please use `tqdm.notebook.tqdm` instead of `tqdm.tqdm_notebook`\n",
            "  \n"
          ],
          "name": "stderr"
        },
        {
          "output_type": "display_data",
          "data": {
            "application/vnd.jupyter.widget-view+json": {
              "model_id": "0118a1564c4e48eea09e39538312deb5",
              "version_minor": 0,
              "version_major": 2
            },
            "text/plain": [
              "HBox(children=(FloatProgress(value=0.0, max=49.0), HTML(value='')))"
            ]
          },
          "metadata": {
            "tags": []
          }
        },
        {
          "output_type": "stream",
          "text": [
            "Collect 70008 comments from r/nyc\n",
            "Collect 20377 comments from r/LosAngeles\n",
            "Collect 152366 comments from r/chicago\n",
            "Collect 44640 comments from r/Dallas\n",
            "Collect 118987 comments from r/houston\n",
            "Collect 16062 comments from r/washingtondc\n",
            "Collect 23825 comments from r/Miami\n",
            "Collect 30910 comments from r/philadelphia\n",
            "Collect 88358 comments from r/Atlanta\n",
            "Collect 27972 comments from r/phoenix\n",
            "Collect 107217 comments from r/boston\n",
            "Collect 22771 comments from r/sanfrancisco\n",
            "Collect 170 comments from r/Riverside\n",
            "Collect 37089 comments from r/Detroit\n",
            "Collect 123094 comments from r/Seattle\n",
            "Collect 16676 comments from r/Minneapolis\n",
            "Collect 31631 comments from r/sandiego\n",
            "Collect 22466 comments from r/tampa\n",
            "Collect 71241 comments from r/Denver\n",
            "Collect 19289 comments from r/StLouis\n",
            "Collect 51090 comments from r/baltimore\n",
            "Collect 29810 comments from r/Charlotte\n",
            "Collect 21643 comments from r/orlando\n",
            "Collect 10794 comments from r/sanantonio\n",
            "Collect 140681 comments from r/Portland\n",
            "Collect 21116 comments from r/Sacramento\n",
            "Collect 47467 comments from r/pittsburgh\n",
            "Collect 1389 comments from r/LasVegas\n",
            "Collect 153532 comments from r/Austin\n",
            "Collect 23013 comments from r/cincinnati\n",
            "Collect 7824 comments from r/kansascity\n",
            "Collect 36916 comments from r/Columbus\n",
            "Collect 6619 comments from r/indianapolis\n",
            "Collect 23031 comments from r/Cleveland\n",
            "Collect 11486 comments from r/SanJose\n",
            "Collect 41837 comments from r/nashville\n",
            "Collect 493 comments from r/VirginiaBeach\n",
            "Collect 5536 comments from r/providence\n",
            "Collect 19052 comments from r/milwaukee\n",
            "Collect 27735 comments from r/jacksonville\n",
            "Collect 5 comments from r/oklahomacity\n",
            "Collect 23047 comments from r/raleigh\n",
            "Collect 0 comments from r/richmond\n",
            "Collect 16574 comments from r/NewOrleans\n",
            "Collect 17703 comments from r/Louisville\n",
            "Collect 7787 comments from r/SaltLakeCity\n",
            "Collect 1161 comments from r/Hartford\n",
            "Collect 21591 comments from r/Buffalo\n",
            "Collect 14657 comments from r/Birmingham\n",
            "\n"
          ],
          "name": "stdout"
        }
      ]
    }
  ]
}