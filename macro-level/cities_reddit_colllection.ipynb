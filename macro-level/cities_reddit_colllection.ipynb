{
 "cells": [
  {
   "cell_type": "code",
   "execution_count": null,
   "metadata": {},
   "outputs": [],
   "source": [
    "import pandas as pd\n",
    "from google.colab import auth\n",
    "from google.colab import files\n",
    "auth.authenticate_user()\n",
    "print('Authenticated')"
   ]
  },
  {
   "cell_type": "code",
   "execution_count": null,
   "metadata": {},
   "outputs": [],
   "source": [
    "city_data = pd.read_csv('processed.csv')\n",
    "cities = []\n",
    "subreddits = []\n",
    "for city in city_data['Metro']:\n",
    "    city_name = city.split('-')[0]\n",
    "    city_name = city_name.split(',')[0]\n",
    "    city_name = city_name.split('/')[0]\n",
    "    cities.append(city_name)\n",
    "    subreddits.append(''.join(city_name.lower().split()))\n",
    "\n",
    "cities[0]='NYC'\n",
    "cities[45]='Salt Lake'\n",
    "subreddits[0]='nyc'\n",
    "\n",
    "subreddits = ['nyc', 'LosAngeles', 'chicago', 'Dallas', 'houston', 'washingtondc', 'Miami', 'philadelphia', 'Atlanta', 'phoenix', 'boston', 'sanfrancisco', 'Riverside', 'Detroit', 'Seattle', 'Minneapolis', 'sandiego', 'tampa', 'Denver', 'StLouis', 'baltimore', 'Charlotte', 'orlando', 'sanantonio', 'Portland', 'Sacramento', 'pittsburgh', 'LasVegas', 'Austin', 'cincinnati', 'kansascity', 'Columbus', 'indianapolis', 'Cleveland', 'SanJose', 'nashville', 'VirginiaBeach', 'providence', 'milwaukee', 'jacksonville', 'oklahomacity', 'raleigh', 'richmond', 'NewOrleans', 'Louisville', 'SaltLakeCity', 'Hartford', 'Buffalo', 'Birmingham']\n",
    "\n",
    "dates=[]\n",
    "for i in range(1,13):\n",
    "    for year in range(5,9):\n",
    "        month = '0{}'.format(i)[-2:]\n",
    "        dates.append('201{}_{}'.format(year, month))"
   ]
  },
  {
   "cell_type": "code",
   "execution_count": null,
   "metadata": {},
   "outputs": [],
   "source": [
    "from google.cloud import bigquery\n",
    "\n",
    "# Construct a BigQuery client object.\n",
    "client = bigquery.Client(project='cse6741')\n",
    "\n",
    "for city_idx in range(len(cities)):\n",
    "    bodies = []\n",
    "    subrs = []\n",
    "    authors = []\n",
    "\n",
    "    for date in dates:\n",
    "        print(date, cities[city_idx],len(bodies))\n",
    "        query = \"\"\"\n",
    "                SELECT body,subreddit,author \n",
    "                FROM `fh-bigquery.reddit_comments.{}` \n",
    "                WHERE (body LIKE @string OR body LIKE @string2) AND (subreddit = @subreddit)\n",
    "                \"\"\".format(date)\n",
    "\n",
    "        job_config = bigquery.QueryJobConfig(\n",
    "            query_parameters=[bigquery.ScalarQueryParameter(\"string\", \"STRING\", '%{}%'.format(cities[city_idx])),\n",
    "                              bigquery.ScalarQueryParameter(\"string2\", \"STRING\", '%{}%'.format(cities[city_idx].lower())),\n",
    "                              bigquery.ScalarQueryParameter(\"subreddit\", \"STRING\", subreddits[city_idx]),])\n",
    "        query_job = client.query(query, job_config=job_config)  # Make an API request.\n",
    "\n",
    "        for row in query_job:\n",
    "            bodies.append(row.body)\n",
    "            subrs.append(row.subreddit)\n",
    "            authors.append(row.author)\n",
    "\n",
    "    df = pd.DataFrame({'body':bodies,'subreddit':subrs,'author':authors})\n",
    "    df.to_csv('{}.csv'.format(cities[city_idx]),header=1)"
   ]
  }
 ],
 "metadata": {
  "kernelspec": {
   "display_name": "Python 3",
   "language": "python",
   "name": "python3"
  },
  "language_info": {
   "codemirror_mode": {
    "name": "ipython",
    "version": 3
   },
   "file_extension": ".py",
   "mimetype": "text/x-python",
   "name": "python",
   "nbconvert_exporter": "python",
   "pygments_lexer": "ipython3",
   "version": "3.8.5"
  }
 },
 "nbformat": 4,
 "nbformat_minor": 4
}
