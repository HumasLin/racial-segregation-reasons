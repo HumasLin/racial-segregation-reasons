{
 "cells": [
  {
   "cell_type": "code",
   "execution_count": 1,
   "metadata": {},
   "outputs": [
    {
     "name": "stdout",
     "output_type": "stream",
     "text": [
      "Requirement already satisfied: spacy in /opt/anaconda3/lib/python3.7/site-packages (3.0.6)\n",
      "Requirement already satisfied: blis<0.8.0,>=0.4.0 in /opt/anaconda3/lib/python3.7/site-packages (from spacy) (0.7.4)\n",
      "Requirement already satisfied: spacy-legacy<3.1.0,>=3.0.4 in /opt/anaconda3/lib/python3.7/site-packages (from spacy) (3.0.5)\n",
      "Requirement already satisfied: numpy>=1.15.0 in /opt/anaconda3/lib/python3.7/site-packages (from spacy) (1.17.2)\n",
      "Requirement already satisfied: typer<0.4.0,>=0.3.0 in /opt/anaconda3/lib/python3.7/site-packages (from spacy) (0.3.2)\n",
      "Requirement already satisfied: jinja2 in /opt/anaconda3/lib/python3.7/site-packages (from spacy) (2.10.3)\n",
      "Requirement already satisfied: cymem<2.1.0,>=2.0.2 in /opt/anaconda3/lib/python3.7/site-packages (from spacy) (2.0.5)\n",
      "Requirement already satisfied: wasabi<1.1.0,>=0.8.1 in /opt/anaconda3/lib/python3.7/site-packages (from spacy) (0.8.2)\n",
      "Requirement already satisfied: pydantic<1.8.0,>=1.7.1 in /opt/anaconda3/lib/python3.7/site-packages (from spacy) (1.7.3)\n",
      "Requirement already satisfied: packaging>=20.0 in /opt/anaconda3/lib/python3.7/site-packages (from spacy) (20.9)\n",
      "Requirement already satisfied: preshed<3.1.0,>=3.0.2 in /opt/anaconda3/lib/python3.7/site-packages (from spacy) (3.0.5)\n",
      "Requirement already satisfied: pathy>=0.3.5 in /opt/anaconda3/lib/python3.7/site-packages (from spacy) (0.5.2)\n",
      "Requirement already satisfied: thinc<8.1.0,>=8.0.3 in /opt/anaconda3/lib/python3.7/site-packages (from spacy) (8.0.3)\n",
      "Requirement already satisfied: catalogue<2.1.0,>=2.0.3 in /opt/anaconda3/lib/python3.7/site-packages (from spacy) (2.0.3)\n",
      "Requirement already satisfied: murmurhash<1.1.0,>=0.28.0 in /opt/anaconda3/lib/python3.7/site-packages (from spacy) (1.0.5)\n",
      "Requirement already satisfied: setuptools in /opt/anaconda3/lib/python3.7/site-packages (from spacy) (41.4.0)\n",
      "Requirement already satisfied: tqdm<5.0.0,>=4.38.0 in /opt/anaconda3/lib/python3.7/site-packages (from spacy) (4.60.0)\n",
      "Requirement already satisfied: typing-extensions<4.0.0.0,>=3.7.4; python_version < \"3.8\" in /opt/anaconda3/lib/python3.7/site-packages (from spacy) (3.7.4.3)\n",
      "Requirement already satisfied: requests<3.0.0,>=2.13.0 in /opt/anaconda3/lib/python3.7/site-packages (from spacy) (2.22.0)\n",
      "Requirement already satisfied: srsly<3.0.0,>=2.4.1 in /opt/anaconda3/lib/python3.7/site-packages (from spacy) (2.4.1)\n",
      "Requirement already satisfied: click<7.2.0,>=7.1.1 in /opt/anaconda3/lib/python3.7/site-packages (from typer<0.4.0,>=0.3.0->spacy) (7.1.2)\n",
      "Requirement already satisfied: MarkupSafe>=0.23 in /opt/anaconda3/lib/python3.7/site-packages (from jinja2->spacy) (1.1.1)\n",
      "Requirement already satisfied: pyparsing>=2.0.2 in /opt/anaconda3/lib/python3.7/site-packages (from packaging>=20.0->spacy) (2.4.2)\n",
      "Requirement already satisfied: smart-open<4.0.0,>=2.2.0 in /opt/anaconda3/lib/python3.7/site-packages (from pathy>=0.3.5->spacy) (3.0.0)\n",
      "Requirement already satisfied: zipp>=0.5; python_version < \"3.8\" in /opt/anaconda3/lib/python3.7/site-packages (from catalogue<2.1.0,>=2.0.3->spacy) (0.6.0)\n",
      "Requirement already satisfied: certifi>=2017.4.17 in /opt/anaconda3/lib/python3.7/site-packages (from requests<3.0.0,>=2.13.0->spacy) (2020.6.20)\n",
      "Requirement already satisfied: idna<2.9,>=2.5 in /opt/anaconda3/lib/python3.7/site-packages (from requests<3.0.0,>=2.13.0->spacy) (2.8)\n",
      "Requirement already satisfied: urllib3!=1.25.0,!=1.25.1,<1.26,>=1.21.1 in /opt/anaconda3/lib/python3.7/site-packages (from requests<3.0.0,>=2.13.0->spacy) (1.24.2)\n",
      "Requirement already satisfied: chardet<3.1.0,>=3.0.2 in /opt/anaconda3/lib/python3.7/site-packages (from requests<3.0.0,>=2.13.0->spacy) (3.0.4)\n",
      "Requirement already satisfied: more-itertools in /opt/anaconda3/lib/python3.7/site-packages (from zipp>=0.5; python_version < \"3.8\"->catalogue<2.1.0,>=2.0.3->spacy) (7.2.0)\n",
      "Requirement already satisfied: gensim in /opt/anaconda3/lib/python3.7/site-packages (4.0.1)\n",
      "Requirement already satisfied: scipy>=0.18.1 in /opt/anaconda3/lib/python3.7/site-packages (from gensim) (1.3.1)\n",
      "Requirement already satisfied: numpy>=1.11.3 in /opt/anaconda3/lib/python3.7/site-packages (from gensim) (1.17.2)\n",
      "Requirement already satisfied: smart-open>=1.8.1 in /opt/anaconda3/lib/python3.7/site-packages (from gensim) (3.0.0)\n",
      "Requirement already satisfied: requests in /opt/anaconda3/lib/python3.7/site-packages (from smart-open>=1.8.1->gensim) (2.22.0)\n",
      "Requirement already satisfied: certifi>=2017.4.17 in /opt/anaconda3/lib/python3.7/site-packages (from requests->smart-open>=1.8.1->gensim) (2020.6.20)\n",
      "Requirement already satisfied: idna<2.9,>=2.5 in /opt/anaconda3/lib/python3.7/site-packages (from requests->smart-open>=1.8.1->gensim) (2.8)\n",
      "Requirement already satisfied: chardet<3.1.0,>=3.0.2 in /opt/anaconda3/lib/python3.7/site-packages (from requests->smart-open>=1.8.1->gensim) (3.0.4)\n",
      "Requirement already satisfied: urllib3!=1.25.0,!=1.25.1,<1.26,>=1.21.1 in /opt/anaconda3/lib/python3.7/site-packages (from requests->smart-open>=1.8.1->gensim) (1.24.2)\n"
     ]
    },
    {
     "name": "stderr",
     "output_type": "stream",
     "text": [
      "/opt/anaconda3/lib/python3.7/site-packages/tensorflow/python/framework/dtypes.py:516: FutureWarning: Passing (type, 1) or '1type' as a synonym of type is deprecated; in a future version of numpy, it will be understood as (type, (1,)) / '(1,)type'.\n",
      "  _np_qint8 = np.dtype([(\"qint8\", np.int8, 1)])\n",
      "/opt/anaconda3/lib/python3.7/site-packages/tensorflow/python/framework/dtypes.py:517: FutureWarning: Passing (type, 1) or '1type' as a synonym of type is deprecated; in a future version of numpy, it will be understood as (type, (1,)) / '(1,)type'.\n",
      "  _np_quint8 = np.dtype([(\"quint8\", np.uint8, 1)])\n",
      "/opt/anaconda3/lib/python3.7/site-packages/tensorflow/python/framework/dtypes.py:518: FutureWarning: Passing (type, 1) or '1type' as a synonym of type is deprecated; in a future version of numpy, it will be understood as (type, (1,)) / '(1,)type'.\n",
      "  _np_qint16 = np.dtype([(\"qint16\", np.int16, 1)])\n",
      "/opt/anaconda3/lib/python3.7/site-packages/tensorflow/python/framework/dtypes.py:519: FutureWarning: Passing (type, 1) or '1type' as a synonym of type is deprecated; in a future version of numpy, it will be understood as (type, (1,)) / '(1,)type'.\n",
      "  _np_quint16 = np.dtype([(\"quint16\", np.uint16, 1)])\n",
      "/opt/anaconda3/lib/python3.7/site-packages/tensorflow/python/framework/dtypes.py:520: FutureWarning: Passing (type, 1) or '1type' as a synonym of type is deprecated; in a future version of numpy, it will be understood as (type, (1,)) / '(1,)type'.\n",
      "  _np_qint32 = np.dtype([(\"qint32\", np.int32, 1)])\n",
      "/opt/anaconda3/lib/python3.7/site-packages/tensorflow/python/framework/dtypes.py:525: FutureWarning: Passing (type, 1) or '1type' as a synonym of type is deprecated; in a future version of numpy, it will be understood as (type, (1,)) / '(1,)type'.\n",
      "  np_resource = np.dtype([(\"resource\", np.ubyte, 1)])\n",
      "[nltk_data] Downloading package stopwords to /Users/humas/nltk_data...\n",
      "[nltk_data]   Package stopwords is already up-to-date!\n",
      "[nltk_data] Downloading package wordnet to /Users/humas/nltk_data...\n",
      "[nltk_data]   Package wordnet is already up-to-date!\n"
     ]
    },
    {
     "ename": "OSError",
     "evalue": "[E050] Can't find model 'en_core_web_sm'. It doesn't seem to be a Python package or a valid path to a data directory.",
     "output_type": "error",
     "traceback": [
      "\u001b[0;31m---------------------------------------------------------------------------\u001b[0m",
      "\u001b[0;31mOSError\u001b[0m                                   Traceback (most recent call last)",
      "\u001b[0;32m<ipython-input-1-2e10c054570d>\u001b[0m in \u001b[0;36m<module>\u001b[0;34m\u001b[0m\n\u001b[1;32m     25\u001b[0m \u001b[0mnltk\u001b[0m\u001b[0;34m.\u001b[0m\u001b[0mdownload\u001b[0m\u001b[0;34m(\u001b[0m\u001b[0;34m'stopwords'\u001b[0m\u001b[0;34m)\u001b[0m\u001b[0;34m\u001b[0m\u001b[0;34m\u001b[0m\u001b[0m\n\u001b[1;32m     26\u001b[0m \u001b[0mnltk\u001b[0m\u001b[0;34m.\u001b[0m\u001b[0mdownload\u001b[0m\u001b[0;34m(\u001b[0m\u001b[0;34m'wordnet'\u001b[0m\u001b[0;34m)\u001b[0m\u001b[0;34m\u001b[0m\u001b[0;34m\u001b[0m\u001b[0m\n\u001b[0;32m---> 27\u001b[0;31m \u001b[0mnlp\u001b[0m \u001b[0;34m=\u001b[0m \u001b[0mspacy\u001b[0m\u001b[0;34m.\u001b[0m\u001b[0mload\u001b[0m\u001b[0;34m(\u001b[0m\u001b[0;34m\"en_core_web_sm\"\u001b[0m\u001b[0;34m)\u001b[0m\u001b[0;34m\u001b[0m\u001b[0;34m\u001b[0m\u001b[0m\n\u001b[0m\u001b[1;32m     28\u001b[0m \u001b[0mnltk\u001b[0m\u001b[0;34m.\u001b[0m\u001b[0mdownload\u001b[0m\u001b[0;34m(\u001b[0m\u001b[0;34m'punkt'\u001b[0m\u001b[0;34m)\u001b[0m\u001b[0;34m\u001b[0m\u001b[0;34m\u001b[0m\u001b[0m\n\u001b[1;32m     29\u001b[0m \u001b[0mtokenizer\u001b[0m \u001b[0;34m=\u001b[0m \u001b[0mnltk\u001b[0m\u001b[0;34m.\u001b[0m\u001b[0mdata\u001b[0m\u001b[0;34m.\u001b[0m\u001b[0mload\u001b[0m\u001b[0;34m(\u001b[0m\u001b[0;34m'tokenizers/punkt/english.pickle'\u001b[0m\u001b[0;34m)\u001b[0m\u001b[0;34m\u001b[0m\u001b[0;34m\u001b[0m\u001b[0m\n",
      "\u001b[0;32m/opt/anaconda3/lib/python3.7/site-packages/spacy/__init__.py\u001b[0m in \u001b[0;36mload\u001b[0;34m(name, vocab, disable, exclude, config)\u001b[0m\n\u001b[1;32m     49\u001b[0m     \"\"\"\n\u001b[1;32m     50\u001b[0m     return util.load_model(\n\u001b[0;32m---> 51\u001b[0;31m         \u001b[0mname\u001b[0m\u001b[0;34m,\u001b[0m \u001b[0mvocab\u001b[0m\u001b[0;34m=\u001b[0m\u001b[0mvocab\u001b[0m\u001b[0;34m,\u001b[0m \u001b[0mdisable\u001b[0m\u001b[0;34m=\u001b[0m\u001b[0mdisable\u001b[0m\u001b[0;34m,\u001b[0m \u001b[0mexclude\u001b[0m\u001b[0;34m=\u001b[0m\u001b[0mexclude\u001b[0m\u001b[0;34m,\u001b[0m \u001b[0mconfig\u001b[0m\u001b[0;34m=\u001b[0m\u001b[0mconfig\u001b[0m\u001b[0;34m\u001b[0m\u001b[0;34m\u001b[0m\u001b[0m\n\u001b[0m\u001b[1;32m     52\u001b[0m     )\n\u001b[1;32m     53\u001b[0m \u001b[0;34m\u001b[0m\u001b[0m\n",
      "\u001b[0;32m/opt/anaconda3/lib/python3.7/site-packages/spacy/util.py\u001b[0m in \u001b[0;36mload_model\u001b[0;34m(name, vocab, disable, exclude, config)\u001b[0m\n\u001b[1;32m    329\u001b[0m     \u001b[0;32mif\u001b[0m \u001b[0mname\u001b[0m \u001b[0;32min\u001b[0m \u001b[0mOLD_MODEL_SHORTCUTS\u001b[0m\u001b[0;34m:\u001b[0m\u001b[0;34m\u001b[0m\u001b[0;34m\u001b[0m\u001b[0m\n\u001b[1;32m    330\u001b[0m         \u001b[0;32mraise\u001b[0m \u001b[0mIOError\u001b[0m\u001b[0;34m(\u001b[0m\u001b[0mErrors\u001b[0m\u001b[0;34m.\u001b[0m\u001b[0mE941\u001b[0m\u001b[0;34m.\u001b[0m\u001b[0mformat\u001b[0m\u001b[0;34m(\u001b[0m\u001b[0mname\u001b[0m\u001b[0;34m=\u001b[0m\u001b[0mname\u001b[0m\u001b[0;34m,\u001b[0m \u001b[0mfull\u001b[0m\u001b[0;34m=\u001b[0m\u001b[0mOLD_MODEL_SHORTCUTS\u001b[0m\u001b[0;34m[\u001b[0m\u001b[0mname\u001b[0m\u001b[0;34m]\u001b[0m\u001b[0;34m)\u001b[0m\u001b[0;34m)\u001b[0m\u001b[0;34m\u001b[0m\u001b[0;34m\u001b[0m\u001b[0m\n\u001b[0;32m--> 331\u001b[0;31m     \u001b[0;32mraise\u001b[0m \u001b[0mIOError\u001b[0m\u001b[0;34m(\u001b[0m\u001b[0mErrors\u001b[0m\u001b[0;34m.\u001b[0m\u001b[0mE050\u001b[0m\u001b[0;34m.\u001b[0m\u001b[0mformat\u001b[0m\u001b[0;34m(\u001b[0m\u001b[0mname\u001b[0m\u001b[0;34m=\u001b[0m\u001b[0mname\u001b[0m\u001b[0;34m)\u001b[0m\u001b[0;34m)\u001b[0m\u001b[0;34m\u001b[0m\u001b[0;34m\u001b[0m\u001b[0m\n\u001b[0m\u001b[1;32m    332\u001b[0m \u001b[0;34m\u001b[0m\u001b[0m\n\u001b[1;32m    333\u001b[0m \u001b[0;34m\u001b[0m\u001b[0m\n",
      "\u001b[0;31mOSError\u001b[0m: [E050] Can't find model 'en_core_web_sm'. It doesn't seem to be a Python package or a valid path to a data directory."
     ]
    }
   ],
   "source": [
    "import re\n",
    "import nltk\n",
    "!pip install spacy\n",
    "!pip install gensim\n",
    "import spacy\n",
    "import warnings\n",
    "import nltk.data\n",
    "from tqdm import tqdm_notebook\n",
    "from bs4 import BeautifulSoup\n",
    "from tqdm import tqdm_notebook\n",
    "from nltk.corpus import stopwords\n",
    "warnings.filterwarnings('ignore')\n",
    "\n",
    "import pandas as pd\n",
    "import numpy as np\n",
    "from matplotlib import pyplot as plt\n",
    "from gensim.utils import simple_preprocess\n",
    "from gensim.models import word2vec, KeyedVectors\n",
    "from gensim.parsing.preprocessing import STOPWORDS\n",
    "from nltk.stem import WordNetLemmatizer, SnowballStemmer\n",
    "from nltk.stem.porter import *\n",
    "from sklearn.cluster import KMeans\n",
    "from sklearn.feature_extraction.text import TfidfVectorizer\n",
    "\n",
    "nltk.download('stopwords')\n",
    "nltk.download('wordnet')\n",
    "nlp = spacy.load(\"en_core_web_sm\")\n",
    "nltk.download('punkt')\n",
    "tokenizer = nltk.data.load('tokenizers/punkt/english.pickle')\n",
    "orange, purple, elm, grey ='#FFCC00', '#666599', '#217C7E', '#F5F5F5'"
   ]
  },
  {
   "cell_type": "code",
   "execution_count": null,
   "metadata": {},
   "outputs": [],
   "source": [
    "database = pd.read_csv('data/complete_data.csv',index_col=0)\n",
    "data_aa = database[database['race']=='black']\n",
    "data_wa = database[database['race']=='white']"
   ]
  },
  {
   "cell_type": "code",
   "execution_count": null,
   "metadata": {},
   "outputs": [],
   "source": [
    "database"
   ]
  },
  {
   "cell_type": "markdown",
   "metadata": {},
   "source": [
    "# Individual-level frequently mentioned words"
   ]
  },
  {
   "cell_type": "code",
   "execution_count": 13,
   "metadata": {},
   "outputs": [],
   "source": [
    "def clean_stem(text, join=0):\n",
    "\n",
    "    no_cite = re.sub('>.*','',text)\n",
    "\n",
    "    no_url = re.sub(r\"http\\S+\", '', no_cite)\n",
    "\n",
    "    review_text = BeautifulSoup(no_url).get_text()\n",
    "\n",
    "    doc = nlp(review_text)\n",
    "    \n",
    "    #Remove non-letters\n",
    "    letters_only = re.sub(\"[^a-zA-Z]\", \" \", review_text)\n",
    "    \n",
    "    #Convert to lower case and split\n",
    "    words = letters_only.lower().split()\n",
    "    \n",
    "    #Covert stop words to a set\n",
    "    stops = set(stopwords.words(\"english\"))\n",
    "    \n",
    "    #Remove stopwords\n",
    "    meaningful_words = [w for w in words if not w in stops]\n",
    "    results = []\n",
    "    for i in meaningful_words:\n",
    "        if len(i) > 3:\n",
    "            stemmed_token = lemmatize_stemming(i)\n",
    "            stemmed_to_original[stemmed_token] = i\n",
    "            results.append(stemmed_token)\n",
    "\n",
    "    return results"
   ]
  },
  {
   "cell_type": "code",
   "execution_count": 21,
   "metadata": {},
   "outputs": [],
   "source": [
    "stemmer = SnowballStemmer(\"english\")\n",
    "stemmed_to_original = {}\n",
    "\n",
    "## Basic Preprocessings Functions ##\n",
    "def lemmatize_stemming(text):\n",
    "    return stemmer.stem(WordNetLemmatizer().lemmatize(text, pos='v'))\n",
    "\n",
    "def find_keywords(corpus):\n",
    "\n",
    "    news_data = []\n",
    "    for i in tqdm_notebook(corpus):\n",
    "        news_data.append(clean_stem(i))\n",
    "    ## notice, min_df and max_df parameters are really important in getting the most important keywords out of your corpus\n",
    "    vectorizer = TfidfVectorizer(min_df = 20 , max_df = 0.72, tokenizer= lambda x : x , lowercase= False)\n",
    "    vectorizer.fit_transform(news_data)\n",
    "\n",
    "    ## get idf values of all the corresponding tokens used by vectorizer and sort them in ascending order\n",
    "    word_to_idf = {i:j for i,j in zip(vectorizer.get_feature_names() , vectorizer.idf_ )}\n",
    "    ## sort the dictionairy in ascending order of idf weights\n",
    "    word_to_idf = sorted(word_to_idf.items() ,key = lambda x : x[1],  reverse = False)\n",
    "\n",
    "    return word_to_idf"
   ]
  },
  {
   "cell_type": "code",
   "execution_count": 22,
   "metadata": {},
   "outputs": [
    {
     "name": "stdout",
     "output_type": "stream",
     "text": [
      "for all authors data\n"
     ]
    },
    {
     "data": {
      "application/vnd.jupyter.widget-view+json": {
       "model_id": "7c96014698834b0cac98d95a59e156ce",
       "version_major": 2,
       "version_minor": 0
      },
      "text/plain": [
       "HBox(children=(HTML(value=''), FloatProgress(value=0.0, max=18214.0), HTML(value='')))"
      ]
     },
     "metadata": {},
     "output_type": "display_data"
    },
    {
     "name": "stdout",
     "output_type": "stream",
     "text": [
      "\n",
      "for african american authors data\n"
     ]
    },
    {
     "data": {
      "application/vnd.jupyter.widget-view+json": {
       "model_id": "f91316bb9c984d46b05ef767ce93e724",
       "version_major": 2,
       "version_minor": 0
      },
      "text/plain": [
       "HBox(children=(HTML(value=''), FloatProgress(value=0.0, max=2785.0), HTML(value='')))"
      ]
     },
     "metadata": {},
     "output_type": "display_data"
    },
    {
     "name": "stdout",
     "output_type": "stream",
     "text": [
      "\n",
      "for white american authors data\n"
     ]
    },
    {
     "data": {
      "application/vnd.jupyter.widget-view+json": {
       "model_id": "7b2199e27a6c4973ad92153e2b82a5ff",
       "version_major": 2,
       "version_minor": 0
      },
      "text/plain": [
       "HBox(children=(HTML(value=''), FloatProgress(value=0.0, max=15429.0), HTML(value='')))"
      ]
     },
     "metadata": {},
     "output_type": "display_data"
    },
    {
     "name": "stdout",
     "output_type": "stream",
     "text": [
      "\n"
     ]
    }
   ],
   "source": [
    "print('for all authors data')\n",
    "comments = list(database['body'])\n",
    "all_key = find_keywords(comments)\n",
    "\n",
    "print('for african american authors data')\n",
    "comments = list(data_aa['body'])\n",
    "black_key = find_keywords(comments)\n",
    "\n",
    "print('for white american authors data')\n",
    "comments = list(data_wa['body'])\n",
    "white_key = find_keywords(comments)"
   ]
  },
  {
   "cell_type": "code",
   "execution_count": 28,
   "metadata": {
    "scrolled": true
   },
   "outputs": [
    {
     "name": "stdout",
     "output_type": "stream",
     "text": [
      "like ---> 2.997217890865083\n",
      "people ---> 3.3864322651834975\n",
      "want ---> 3.7773764484146577\n",
      "would ---> 3.8697782403230256\n",
      "area ---> 4.163610194594934\n",
      "city ---> 4.189927502912308\n",
      "life ---> 4.207412817253328\n",
      "times ---> 4.280581871180439\n",
      "place ---> 4.311718559966231\n",
      "work ---> 4.383512251984973\n",
      "really ---> 4.419760042377314\n",
      "world ---> 4.440099726614437\n",
      "year ---> 4.476721081302974\n",
      "know ---> 4.500082431216148\n",
      "house ---> 4.558096826276776\n",
      "thinking ---> 4.599400632418011\n",
      "still ---> 4.653021723857108\n",
      "also ---> 4.683131525328479\n",
      "even ---> 4.68531731854846\n",
      "near ---> 4.70297782170041\n",
      "make ---> 4.725501296367493\n",
      "could ---> 4.796285553399862\n",
      "going ---> 4.803647549840932\n",
      "good ---> 4.83364980014473\n",
      "country ---> 4.841293149457298\n",
      "used ---> 4.929467723041964\n",
      "well ---> 4.960675929495805\n",
      "right ---> 4.978118232159147\n",
      "much ---> 5.01698710105852\n",
      "looking ---> 5.04480960665782\n",
      "without ---> 5.04480960665782\n",
      "many ---> 5.047949326662487\n",
      "long ---> 5.07020779726343\n",
      "state ---> 5.07020779726343\n",
      "never ---> 5.096267903933295\n",
      "pretty ---> 5.129828100425597\n",
      "need ---> 5.154008898622812\n",
      "things ---> 5.16809363850455\n",
      "actually ---> 5.185983203255326\n",
      "loved ---> 5.219013728931808\n",
      "town ---> 5.253172647743126\n",
      "home ---> 5.272666442424128\n",
      "away ---> 5.280571621931241\n",
      "close ---> 5.300612372814687\n",
      "around ---> 5.304669173510302\n",
      "something ---> 5.341940568307533\n",
      "feel ---> 5.367582998920871\n",
      "move ---> 5.376278705888424\n",
      "fucking ---> 5.393900307238244\n",
      "sure ---> 5.407323327570385\n",
      "great ---> 5.420928979626163\n",
      "better ---> 5.425505646653575\n",
      "family ---> 5.425505646653575\n",
      "south ---> 5.448708543733239\n",
      "said ---> 5.458142575966598\n",
      "since ---> 5.496794730400877\n",
      "means ---> 5.5066958013835885\n",
      "though ---> 5.5066958013835885\n",
      "parents ---> 5.552505337414883\n",
      "took ---> 5.552505337414883\n",
      "probably ---> 5.5842540357294626\n",
      "enough ---> 5.595064951833678\n",
      "friends ---> 5.595064951833678\n",
      "shows ---> 5.64521473551915\n",
      "months ---> 5.680101994519591\n",
      "maybe ---> 5.692006897025909\n",
      "personally ---> 5.704055235542084\n",
      "small ---> 5.716250508635902\n",
      "last ---> 5.72240437421028\n",
      "yeah ---> 5.747405676415697\n",
      "come ---> 5.760144702193127\n",
      "find ---> 5.7665755925234174\n",
      "someone ---> 5.7665755925234174\n",
      "every ---> 5.786120188596388\n",
      "society ---> 5.79272087262774\n",
      "minutes ---> 5.799365415346409\n",
      "gave ---> 5.806054403497205\n",
      "everyone ---> 5.819568122663928\n",
      "shit ---> 5.819568122663928\n",
      "happened ---> 5.826394087734328\n",
      "hours ---> 5.826394087734328\n",
      "money ---> 5.8401874098666635\n",
      "tell ---> 5.8401874098666635\n",
      "back ---> 5.861240819064496\n",
      "little ---> 5.8683582868333595\n",
      "able ---> 5.875526776311973\n",
      "outside ---> 5.875526776311973\n",
      "neighborhood ---> 5.897345823706612\n",
      "depending ---> 5.904725931004235\n",
      "free ---> 5.904725931004235\n",
      "differ ---> 5.912160909491753\n",
      "learn ---> 5.912160909491753\n",
      "apartments ---> 5.9196515812209105\n",
      "help ---> 5.9196515812209105\n",
      "first ---> 5.927198786856294\n",
      "seemed ---> 5.934803386241513\n",
      "afford ---> 5.942466258987082\n",
      "seeing ---> 5.950188305080992\n",
      "alone ---> 5.957970445523047\n",
      "america ---> 5.957970445523047\n"
     ]
    }
   ],
   "source": [
    "for k,v in all_key[:100]:\n",
    "    print('{} ---> {}'.format(stemmed_to_original[k], v))"
   ]
  },
  {
   "cell_type": "code",
   "execution_count": 26,
   "metadata": {
    "scrolled": true
   },
   "outputs": [
    {
     "name": "stdout",
     "output_type": "stream",
     "text": [
      "like ---> 2.9484258736525604\n",
      "people ---> 3.435193929046549\n",
      "want ---> 3.8024634394166776\n",
      "would ---> 3.8024634394166776\n",
      "life ---> 4.0495602317533805\n",
      "area ---> 4.213863283044656\n",
      "times ---> 4.2595333198778444\n",
      "place ---> 4.33724230420516\n",
      "city ---> 4.4437257846076115\n",
      "world ---> 4.4437257846076115\n",
      "really ---> 4.455025339861544\n",
      "make ---> 4.588556732486067\n",
      "year ---> 4.614874040803441\n",
      "work ---> 4.628297061135582\n",
      "even ---> 4.64190271319136\n",
      "thinking ---> 4.669682277298436\n",
      "know ---> 4.683866912290392\n",
      "still ---> 4.712854449163644\n",
      "also ---> 4.773479070980079\n",
      "much ---> 4.8052277692946594\n",
      "country ---> 4.854824710434031\n",
      "could ---> 4.871919143793331\n",
      "going ---> 4.871919143793331\n",
      "good ---> 4.889310886505201\n",
      "without ---> 4.9070104636046015\n",
      "right ---> 4.92502896910728\n",
      "things ---> 4.943378107775477\n",
      "house ---> 4.981118435758324\n",
      "near ---> 5.020339148911605\n",
      "loved ---> 5.040541856229124\n",
      "used ---> 5.040541856229124\n",
      "looking ---> 5.06116114343186\n",
      "well ---> 5.06116114343186\n",
      "long ---> 5.082214552629693\n",
      "south ---> 5.082214552629693\n",
      "feel ---> 5.103720757850656\n",
      "around ---> 5.171162038646188\n",
      "means ---> 5.171162038646188\n",
      "need ---> 5.171162038646188\n",
      "many ---> 5.194692536056382\n",
      "state ---> 5.194692536056382\n",
      "better ---> 5.243482700225814\n",
      "never ---> 5.243482700225814\n",
      "said ---> 5.268800508210105\n",
      "something ---> 5.268800508210105\n",
      "since ---> 5.2947759946133655\n",
      "away ---> 5.321444241695526\n",
      "pretty ---> 5.321444241695526\n",
      "sure ---> 5.321444241695526\n",
      "family ---> 5.348843215883641\n",
      "actually ---> 5.377014092850337\n",
      "though ---> 5.377014092850337\n",
      "fucking ---> 5.466626251540024\n",
      "someone ---> 5.466626251540024\n",
      "shit ---> 5.498374949854605\n",
      "great ---> 5.531164772677595\n",
      "home ---> 5.565066324353277\n",
      "last ---> 5.565066324353277\n",
      "move ---> 5.565066324353277\n",
      "probably ---> 5.565066324353277\n",
      "black ---> 5.600157644164547\n",
      "find ---> 5.600157644164547\n",
      "learn ---> 5.600157644164547\n",
      "maybe ---> 5.600157644164547\n",
      "society ---> 5.600157644164547\n",
      "always ---> 5.674265616318269\n",
      "apartments ---> 5.674265616318269\n",
      "come ---> 5.674265616318269\n",
      "town ---> 5.674265616318269\n",
      "everyone ---> 5.71348632947155\n",
      "happened ---> 5.71348632947155\n",
      "parents ---> 5.71348632947155\n",
      "tell ---> 5.71348632947155\n",
      "america ---> 5.754308323991805\n",
      "anything ---> 5.754308323991805\n",
      "close ---> 5.754308323991805\n",
      "friends ---> 5.754308323991805\n",
      "little ---> 5.754308323991805\n",
      "seeing ---> 5.754308323991805\n",
      "tries ---> 5.754308323991805\n",
      "money ---> 5.796867938410601\n",
      "alone ---> 5.841319700981435\n",
      "another ---> 5.841319700981435\n",
      "differ ---> 5.841319700981435\n",
      "game ---> 5.841319700981435\n",
      "outside ---> 5.841319700981435\n",
      "shows ---> 5.841319700981435\n",
      "took ---> 5.841319700981435\n",
      "first ---> 5.887839716616328\n",
      "gets ---> 5.887839716616328\n",
      "gave ---> 5.887839716616328\n",
      "happy ---> 5.887839716616328\n",
      "hard ---> 5.887839716616328\n",
      "heard ---> 5.887839716616328\n",
      "personally ---> 5.887839716616328\n",
      "points ---> 5.887839716616328\n"
     ]
    }
   ],
   "source": [
    "for k,v in black_key[:100]:\n",
    "    print('{} ---> {}'.format(stemmed_to_original[k], v))"
   ]
  },
  {
   "cell_type": "code",
   "execution_count": 27,
   "metadata": {
    "scrolled": true
   },
   "outputs": [
    {
     "name": "stdout",
     "output_type": "stream",
     "text": [
      "like ---> 3.0058707010714274\n",
      "people ---> 3.3772415978366155\n",
      "want ---> 3.7719408440182205\n",
      "would ---> 3.8813394384253272\n",
      "city ---> 4.148803389420198\n",
      "area ---> 4.153345410854699\n",
      "life ---> 4.2371889592878915\n",
      "times ---> 4.282766467784212\n",
      "place ---> 4.3054748671540235\n",
      "work ---> 4.343283150693963\n",
      "really ---> 4.411620928806684\n",
      "world ---> 4.43749301863228\n",
      "year ---> 4.451706455882334\n",
      "know ---> 4.4682016752514455\n",
      "house ---> 4.4956006494395595\n",
      "thinking ---> 4.584945749775409\n",
      "still ---> 4.640181878250667\n",
      "near ---> 4.652604398249224\n",
      "also ---> 4.665183180456085\n",
      "even ---> 4.690825611069423\n",
      "make ---> 4.749666111092356\n",
      "could ---> 4.780437769759109\n",
      "going ---> 4.78899702315478\n",
      "good ---> 4.821023049874188\n",
      "country ---> 4.835926455376763\n",
      "used ---> 4.907496647878014\n",
      "well ---> 4.940286470701006\n",
      "right ---> 4.984586729597585\n",
      "many ---> 5.020051439169868\n",
      "looking ---> 5.038266879061209\n",
      "state ---> 5.045646986358832\n",
      "much ---> 5.056820286956957\n",
      "long ---> 5.064339119370985\n",
      "never ---> 5.068119842210891\n",
      "without ---> 5.068119842210891\n",
      "pretty ---> 5.0949928604619865\n",
      "need ---> 5.1469007200640045\n",
      "actually ---> 5.151007502016658\n",
      "town ---> 5.188747829999505\n",
      "things ---> 5.210346941802967\n",
      "home ---> 5.22353394608492\n",
      "close ---> 5.232422893502167\n",
      "loved ---> 5.250441399004845\n",
      "away ---> 5.268790537673041\n",
      "around ---> 5.3259489515129905\n",
      "move ---> 5.340764037298131\n",
      "something ---> 5.350764120632714\n",
      "fucking ---> 5.376210786293878\n",
      "great ---> 5.39704487319672\n",
      "feel ---> 5.418322271644005\n",
      "sure ---> 5.418322271644005\n",
      "family ---> 5.434582792515785\n",
      "better ---> 5.456683139516452\n",
      "said ---> 5.490777350859427\n",
      "took ---> 5.502405388854546\n",
      "enough ---> 5.514170230434133\n",
      "parents ---> 5.520104965953948\n",
      "south ---> 5.526075132940451\n",
      "though ---> 5.526075132940451\n",
      "since ---> 5.532081157000663\n",
      "friends ---> 5.5626645803727435\n",
      "means ---> 5.575164743136975\n",
      "probably ---> 5.58147391233024\n",
      "months ---> 5.607116342943577\n",
      "shows ---> 5.607116342943577\n",
      "personally ---> 5.667335202936632\n",
      "small ---> 5.667335202936632\n",
      "yeah ---> 5.674255645781206\n",
      "maybe ---> 5.702426522747902\n",
      "every ---> 5.738794166918777\n",
      "last ---> 5.7462291454062955\n",
      "minutes ---> 5.761267022770836\n",
      "come ---> 5.768871622156055\n",
      "gave ---> 5.784256540995535\n",
      "find ---> 5.79203868143759\n",
      "hours ---> 5.799881858898615\n",
      "back ---> 5.8237873797521695\n",
      "society ---> 5.8237873797521695\n",
      "someone ---> 5.8237873797521695\n",
      "everyone ---> 5.831884589984789\n",
      "able ---> 5.84004790062395\n",
      "happened ---> 5.84004790062395\n",
      "money ---> 5.84004790062395\n",
      "afford ---> 5.856577202575161\n",
      "tell ---> 5.856577202575161\n",
      "depending ---> 5.864945452245677\n",
      "neighborhood ---> 5.864945452245677\n",
      "free ---> 5.8733843208915415\n",
      "outside ---> 5.8733843208915415\n",
      "little ---> 5.88189501055945\n",
      "shit ---> 5.88189501055945\n",
      "help ---> 5.907870496962711\n",
      "sounds ---> 5.907870496962711\n",
      "differ ---> 5.916681126644866\n",
      "drive ---> 5.916681126644866\n",
      "parts ---> 5.916681126644866\n",
      "seemed ---> 5.916681126644866\n",
      "first ---> 5.925570074062112\n",
      "canada ---> 5.934538744044873\n",
      "north ---> 5.934538744044873\n"
     ]
    }
   ],
   "source": [
    "for k,v in white_key[:100]:\n",
    "    print('{} ---> {}'.format(stemmed_to_original[k], v))"
   ]
  },
  {
   "cell_type": "code",
   "execution_count": 8,
   "metadata": {},
   "outputs": [],
   "source": [
    "transportaion = [3.016808236646075, 3.0227855407545343, 3.0233852409224324]\n",
    "facilities = [3.7688681559055723, 4.253902000590637, 2.6610276138282107]\n",
    "neighbor = [2.925732820757594, 3.467687212648181, 4.058659488789221]\n",
    "transportaion_black = [2.888386304917127,3.028148247292285,3.133508762950112]\n",
    "facilities_black = [2.8458266904983307,3.672505263682799]\n",
    "neighbor_black = [3.133508762950112]\n",
    "transportaion_white = [3.034263267826806, 3.1124280406761424, 3.149699435473374]\n",
    "facilities_white = [2.7316555451583495, 3.917279210816089, 3.8815611282140097]\n",
    "neighbor_white = [2.9106493118596295, 3.5301632413761213, 3.963799226450982]"
   ]
  },
  {
   "cell_type": "markdown",
   "metadata": {},
   "source": [
    "## Visualization"
   ]
  },
  {
   "cell_type": "code",
   "execution_count": 29,
   "metadata": {},
   "outputs": [],
   "source": [
    "x = np.arange(3)\n",
    "orange, purple, elm, grey ='#FFCC00', '#666599', '#217C7E', '#F5F5F5'"
   ]
  },
  {
   "cell_type": "code",
   "execution_count": 11,
   "metadata": {
    "scrolled": true
   },
   "outputs": [
    {
     "data": {
      "image/png": "[encoded data removed]",
      "text/plain": [
       "<Figure size 1500x1200 with 1 Axes>"
      ]
     },
     "metadata": {
      "needs_background": "light"
     },
     "output_type": "display_data"
    }
   ],
   "source": [
    "fig, ax = plt.subplots(figsize=(5,4), dpi=300)\n",
    "plt.bar(x,[np.mean(transportaion),np.mean(neighbor),np.mean(facilities)],\n",
    "        0.2, color=elm, label='All')\n",
    "plt.bar(x+0.2,[np.mean(transportaion_black),np.mean(neighbor_black),np.mean(facilities_black)], \n",
    "        0.2, color=orange, label='Black users')\n",
    "plt.bar(x+0.4,[np.mean(transportaion_white),np.mean(facilities_white),np.mean(neighbor_white)],\n",
    "        0.2, color=purple,label = 'White users')\n",
    "ax.set_ylim(0,4.5)\n",
    "ax.set_ylabel('Inverse Document Frequency')\n",
    "ax.set_xticks(x+0.2)\n",
    "ax.set_xticklabels(['transportation', 'convenience', 'neighborhood'])\n",
    "plt.legend(loc='best', fontsize=10)\n",
    "plt.savefig('Attention.jpg')"
   ]
  },
  {
   "cell_type": "markdown",
   "metadata": {},
   "source": [
    "# Groups of keywords and sentiment"
   ]
  },
  {
   "cell_type": "code",
   "execution_count": 30,
   "metadata": {
    "collapsed": true
   },
   "outputs": [
    {
     "name": "stdout",
     "output_type": "stream",
     "text": [
      "Collecting vaderSentiment\n",
      "  Downloading vaderSentiment-3.3.2-py2.py3-none-any.whl (125 kB)\n",
      "\u001b[K     |████████████████████████████████| 125 kB 3.3 MB/s eta 0:00:01\n",
      "\u001b[?25hRequirement already satisfied: requests in /Users/h/anaconda3/lib/python3.8/site-packages (from vaderSentiment) (2.21.0)\n",
      "Requirement already satisfied: chardet<3.1.0,>=3.0.2 in /Users/h/anaconda3/lib/python3.8/site-packages (from requests->vaderSentiment) (3.0.4)\n",
      "Requirement already satisfied: certifi>=2017.4.17 in /Users/h/anaconda3/lib/python3.8/site-packages (from requests->vaderSentiment) (2020.6.20)\n",
      "Requirement already satisfied: idna<2.9,>=2.5 in /Users/h/anaconda3/lib/python3.8/site-packages (from requests->vaderSentiment) (2.8)\n",
      "Requirement already satisfied: urllib3<1.25,>=1.21.1 in /Users/h/anaconda3/lib/python3.8/site-packages (from requests->vaderSentiment) (1.24.3)\n",
      "Installing collected packages: vaderSentiment\n",
      "Successfully installed vaderSentiment-3.3.2\n",
      "\u001b[33mWARNING: You are using pip version 20.3.1; however, version 21.0.1 is available.\n",
      "You should consider upgrading via the '/Users/h/anaconda3/bin/python -m pip install --upgrade pip' command.\u001b[0m\n"
     ]
    },
    {
     "name": "stderr",
     "output_type": "stream",
     "text": [
      "[nltk_data] Downloading package punkt to /Users/h/nltk_data...\n",
      "[nltk_data]   Package punkt is already up-to-date!\n"
     ]
    }
   ],
   "source": [
    "import nltk.data\n",
    "import pandas as pd\n",
    "from bs4 import BeautifulSoup\n",
    "import re\n",
    "from nltk.corpus import stopwords\n",
    "import numpy as np\n",
    "from sklearn.ensemble import RandomForestClassifier\n",
    "from sklearn.model_selection import train_test_split\n",
    "from sklearn.model_selection import cross_val_score\n",
    "from sklearn.metrics import f1_score\n",
    "from tqdm import tqdm_notebook\n",
    "\n",
    "! pip install vaderSentiment\n",
    "from vaderSentiment.vaderSentiment import SentimentIntensityAnalyzer\n",
    "\n",
    "nltk.download('punkt')\n",
    "tokenizer = nltk.data.load('tokenizers/punkt/english.pickle')"
   ]
  },
  {
   "cell_type": "code",
   "execution_count": 57,
   "metadata": {},
   "outputs": [],
   "source": [
    "def clean(text, join=0):\n",
    "\n",
    "    no_cite = re.sub('>.*','',text)\n",
    "\n",
    "    no_url = re.sub(r\"http\\S+\", '', no_cite)\n",
    "\n",
    "    review_text = BeautifulSoup(no_url).get_text()\n",
    "    \n",
    "    #Remove non-letters\n",
    "    letters_only = re.sub(\"[^a-zA-Z]\", \" \", review_text)\n",
    "    \n",
    "    #Convert to lower case and split\n",
    "    words = letters_only.lower().split()\n",
    "    \n",
    "    #Covert stop words to a set\n",
    "    stops = set(stopwords.words(\"english\"))\n",
    "    \n",
    "    #Remove stopwords\n",
    "    meaningful_words = [w for w in words if not w in stops]\n",
    "    \n",
    "    #Join the words back into one string separated by space\n",
    "    clean_text = meaningful_words\n",
    "    if join:\n",
    "        clean_text = \" \".join(meaningful_words)\n",
    "\n",
    "    return clean_text"
   ]
  },
  {
   "cell_type": "code",
   "execution_count": 50,
   "metadata": {},
   "outputs": [],
   "source": [
    "def review_to_sentences(review: str, tokenizer: nltk.tokenize.punkt.PunktSentenceTokenizer):\n",
    "\n",
    "    raw_sentences = tokenizer.tokenize(review.strip())\n",
    "\n",
    "    review_sentences = []\n",
    "    \n",
    "    for raw_sentence in raw_sentences:\n",
    "        # If a sentence is empty, skip it\n",
    "        if len(raw_sentence) > 0:\n",
    "            # Otherwise, call clean_review to get a list of words\n",
    "            review_sentences.append(clean(raw_sentence))\n",
    "\n",
    "    return review_sentences"
   ]
  },
  {
   "cell_type": "code",
   "execution_count": 61,
   "metadata": {},
   "outputs": [],
   "source": [
    "def generate_z1(sentences,num_features,min_word_count,context,num_workers = 4,downsampling = 1e-3, model_name = \"model1_100features_40minwords_5context\"):\n",
    "\n",
    "    trained_word2vec_model = word2vec.Word2Vec(sentences, workers=num_workers, \n",
    "            size=num_features, min_count = min_word_count, \n",
    "            window = context, sample = downsampling)\n",
    "    \n",
    "    trained_word2vec_model.init_sims(replace=True)\n",
    "\n",
    "    trained_word2vec_model.save(model_name)\n",
    "\n",
    "    z1 = trained_word2vec_model.wv.syn0\n",
    "\n",
    "    word_list_z1 = trained_word2vec_model.wv.index2word\n",
    "\n",
    "    return trained_word2vec_model, z1, word_list_z1"
   ]
  },
  {
   "cell_type": "code",
   "execution_count": 33,
   "metadata": {},
   "outputs": [],
   "source": [
    "def fit_kmeans(z,word_list_z,num_clusters = 10):\n",
    "\n",
    "    kmeans_clustering = KMeans( n_clusters = num_clusters )\n",
    "\n",
    "    idx = kmeans_clustering.fit_predict(z)\n",
    "\n",
    "    word_centroid_map_z = dict(zip(word_list_z, idx))\n",
    "\n",
    "    return word_centroid_map_z"
   ]
  },
  {
   "cell_type": "code",
   "execution_count": 47,
   "metadata": {},
   "outputs": [],
   "source": [
    "def print_clusters(word_centroid_map_z):\n",
    "\n",
    "    clusters_list = {}    \n",
    "    for cluster in range(0,max(word_centroid_map_z.values())+1):\n",
    "        print (\"\\nCluster %d\" %cluster)\n",
    "        words = []\n",
    "        values = list(word_centroid_map_z.values())\n",
    "        keys = list(word_centroid_map_z.keys())\n",
    "        for i in range(0,len(word_centroid_map_z.values())):\n",
    "            if(values[i] == cluster):\n",
    "                words.append(keys[i])\n",
    "        if len(words) > 20:\n",
    "            out = 20\n",
    "        else:\n",
    "            out = len(words)\n",
    "        print(words[:out])\n",
    "        clusters_list[cluster]=words\n",
    "        \n",
    "    return clusters_list  "
   ]
  },
  {
   "cell_type": "code",
   "execution_count": 53,
   "metadata": {},
   "outputs": [],
   "source": [
    "sentences = [] \n",
    "\n",
    "for review in database['body']:\n",
    "    sentences += review_to_sentences(review, tokenizer)"
   ]
  },
  {
   "cell_type": "code",
   "execution_count": null,
   "metadata": {},
   "outputs": [],
   "source": [
    "num_features = 1000\n",
    "min_word_count = 40\n",
    "context = 5\n",
    "\n",
    "model1, z1, word_list_z1 = generate_z1(sentences,num_features,min_word_count,context)\n",
    "word_centroid_map_z1 = fit_kmeans(z1, word_list_z1, 10)\n",
    "clusters = print_clusters(word_centroid_map_z1, \"model1\")"
   ]
  },
  {
   "cell_type": "code",
   "execution_count": null,
   "metadata": {},
   "outputs": [],
   "source": [
    "sentences = database['body']\n",
    "comments = []\n",
    "\n",
    "n = 0\n",
    "for sentence in sentences:\n",
    "    n+=1\n",
    "    no_cite = re.sub('>.*','',sentence)\n",
    "    no_url = re.sub(r\"http\\S+\", '', no_cite)\n",
    "    review_text = BeautifulSoup(no_url).get_text()\n",
    "\n",
    "    vader_score = analyzer.polarity_scores(sentence)\n",
    "    if vs['neg']>0.1 or vs['pos']>0.1:\n",
    "        comments.append(sentence)"
   ]
  },
  {
   "cell_type": "code",
   "execution_count": null,
   "metadata": {},
   "outputs": [],
   "source": [
    "commute,facility,house,neighbor = [],[],[],[]\n",
    "com_cluster = clusters[3][:50]\n",
    "fac_cluster = clusters[0][:50]\n",
    "hou_cluster = clusters[8][:50]\n",
    "nei_cluster = clusters[6][:50]\n",
    "\n",
    "for i in comments:\n",
    "    num_com,num_fac,num_hou,num_nei = 0,0,0,0\n",
    "    for c in com_cluster:\n",
    "        if c in i: \n",
    "            num_com+=1\n",
    "    for f in fac_cluster:\n",
    "        if f in i: \n",
    "            num_fac+=1\n",
    "    for h in hou_cluster:\n",
    "        if h in i: \n",
    "            num_hou+=1\n",
    "    for n in nei_cluster:\n",
    "        if n in i: \n",
    "            num_nei+=1\n",
    "\n",
    "    commute.append(num_com)\n",
    "    facility.append(num_fac)\n",
    "    house.append(num_hou)\n",
    "    neighbor.append(num_nei)"
   ]
  },
  {
   "cell_type": "code",
   "execution_count": null,
   "metadata": {},
   "outputs": [],
   "source": [
    "commute = np.array(commute)/max(commute)\n",
    "facility = np.array(facility)/max(facility)\n",
    "house = np.array(house)/max(house)\n",
    "neighbor = np.array(neighbor)/max(neighbor)"
   ]
  },
  {
   "cell_type": "code",
   "execution_count": null,
   "metadata": {},
   "outputs": [],
   "source": [
    "database['com']=commute\n",
    "database['fac']=facility\n",
    "database['hou']=house\n",
    "database['nei']=neighbor"
   ]
  },
  {
   "cell_type": "markdown",
   "metadata": {},
   "source": [
    "## Visualization"
   ]
  },
  {
   "cell_type": "code",
   "execution_count": null,
   "metadata": {},
   "outputs": [],
   "source": [
    "metrics = [commute, facility, house, neighbor]\n",
    "met_name = ['com','fac','hou','nei']\n",
    "metrics_dict = []\n",
    "for idx in range(4):\n",
    "    i = metrics[idx]\n",
    "    mn = met_name[idx]\n",
    "    dict_data = {}\n",
    "    unique_value = list(set(i))\n",
    "    for v in unique_value:\n",
    "        dict_data[v]=np.mean(database[database[mn]==v]['pos'])\n",
    "    metrics_dict.append(dict_data)    "
   ]
  },
  {
   "cell_type": "code",
   "execution_count": null,
   "metadata": {},
   "outputs": [],
   "source": [
    "f, axes = plt.subplots(2, 2, figsize=(12, 12), sharey=False, dpi=200)\n",
    "names = ['Commute','Facility','House condition','Neighborhood']\n",
    "for i in range(4):\n",
    "    ax1 = axes[int(i/2),i%2]\n",
    "    ks = []\n",
    "    vvs = []\n",
    "    for k,v in metrics_dict[i].items():\n",
    "        ks.append(k)\n",
    "        vvs.append(v)\n",
    "    m, b = np.polyfit(ks, vvs, 1)\n",
    "    ax1.scatter(ks,vvs,c=purple)\n",
    "    ax1.plot(np.array(ks), m*np.array(ks) + b, c=orange)\n",
    "    ax1.set_title(names[i],fontsize=12)\n",
    "    plt.sca(ax1)\n",
    "    plt.xticks(fontsize=12)\n",
    "    plt.yticks(fontsize=12)\n",
    "    if int(i/2) != 0:\n",
    "        ax1.set_xlabel('Scaled Frequency',size=12)\n",
    "    if i%2 == 0:\n",
    "        ax1.set_ylabel('Sentiment Score (positive)',size=12)\n",
    "plt.savefig('pos.jpg')"
   ]
  },
  {
   "cell_type": "code",
   "execution_count": null,
   "metadata": {},
   "outputs": [],
   "source": [
    "metrics = [commute, facility, house, neighbor]\n",
    "met_name = ['com','fac','hou','nei']\n",
    "metrics_dict = []\n",
    "for idx in range(4):\n",
    "    i = metrics[idx]\n",
    "    mn = met_name[idx]\n",
    "    dict_data = {}\n",
    "    unique_value = list(set(i))\n",
    "    for v in unique_value:\n",
    "        dict_data[v]=np.mean(database[database[mn]==v]['neg'])\n",
    "    metrics_dict.append(dict_data)    "
   ]
  },
  {
   "cell_type": "code",
   "execution_count": null,
   "metadata": {},
   "outputs": [],
   "source": [
    "f, axes = plt.subplots(2, 2, figsize=(12, 12), sharey=False, dpi=200)\n",
    "names = ['Commute','Facility','House condition','Neighborhood']\n",
    "for i in range(4):\n",
    "    ax1 = axes[int(i/2),i%2]\n",
    "    ks = []\n",
    "    vvs = []\n",
    "    for k,v in metrics_dict[i].items():\n",
    "        ks.append(k)\n",
    "        vvs.append(v)\n",
    "    m, b = np.polyfit(ks, vvs, 1)\n",
    "    ax1.scatter(ks,vvs,c=purple)\n",
    "    ax1.plot(np.array(ks), m*np.array(ks) + b, c=orange)\n",
    "    ax1.set_title(names[i],fontsize=12)\n",
    "    plt.sca(ax1)\n",
    "    plt.xticks(fontsize=12)\n",
    "    plt.yticks(fontsize=12)\n",
    "    if int(i/2) != 0:\n",
    "        ax1.set_xlabel('Scaled Frequency',size=12)\n",
    "    if i%2 == 0:\n",
    "        ax1.set_ylabel('Sentiment Score (negative)',size=12)\n",
    "plt.savefig('neg.jpg')"
   ]
  },
  {
   "cell_type": "code",
   "execution_count": null,
   "metadata": {},
   "outputs": [],
   "source": [
    "metrics = [commute, facility, house, neighbor]\n",
    "met_name = ['com','fac','hou','nei']\n",
    "metrics_dict = []\n",
    "for idx in range(4):\n",
    "    i = metrics[idx]\n",
    "    mn = met_name[idx]\n",
    "    dict_data = {}\n",
    "    unique_value = list(set(i))\n",
    "    for v in unique_value:\n",
    "        dict_data[v]=np.mean(database[database[mn]==v]['neu'])\n",
    "    metrics_dict.append(dict_data)    "
   ]
  },
  {
   "cell_type": "code",
   "execution_count": null,
   "metadata": {},
   "outputs": [],
   "source": [
    "f, axes = plt.subplots(2, 2, figsize=(12, 12), sharey=False, dpi=200)\n",
    "names = ['Commute','Facility','House condition','Neighborhood']\n",
    "for i in range(4):\n",
    "    ax1 = axes[int(i/2),i%2]\n",
    "    ks = []\n",
    "    vvs = []\n",
    "    for k,v in metrics_dict[i].items():\n",
    "        ks.append(k)\n",
    "        vvs.append(v)\n",
    "    m, b = np.polyfit(ks, vvs, 1)\n",
    "    ax1.scatter(ks,vvs,c=purple)\n",
    "    ax1.plot(np.array(ks), m*np.array(ks) + b, c=orange)\n",
    "    ax1.set_title(names[i],fontsize=12)\n",
    "    plt.sca(ax1)\n",
    "    plt.xticks(fontsize=12)\n",
    "    plt.yticks(fontsize=12)\n",
    "    if int(i/2) != 0:\n",
    "        ax1.set_xlabel('Scaled Frequency',size=12)\n",
    "    if i%2 == 0:\n",
    "        ax1.set_ylabel('Sentiment Score (neutrality)',size=12)\n",
    "plt.savefig('neu.jpg')"
   ]
  }
 ],
 "metadata": {
  "kernelspec": {
   "display_name": "Python 3",
   "language": "python",
   "name": "python3"
  },
  "language_info": {
   "codemirror_mode": {
    "name": "ipython",
    "version": 3
   },
   "file_extension": ".py",
   "mimetype": "text/x-python",
   "name": "python",
   "nbconvert_exporter": "python",
   "pygments_lexer": "ipython3",
   "version": "3.7.4"
  }
 },
 "nbformat": 4,
 "nbformat_minor": 4
}
